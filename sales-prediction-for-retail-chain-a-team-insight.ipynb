{
 "cells": [
  {
   "cell_type": "code",
   "execution_count": 1,
   "id": "a2f5d8fb",
   "metadata": {
    "_cell_guid": "b1076dfc-b9ad-4769-8c92-a6c4dae69d19",
    "_uuid": "8f2839f25d086af736a60e9eeb907d3b93b6e0e5",
    "execution": {
     "iopub.execute_input": "2022-03-27T05:04:19.343300Z",
     "iopub.status.busy": "2022-03-27T05:04:19.342631Z",
     "iopub.status.idle": "2022-03-27T05:04:19.349549Z",
     "shell.execute_reply": "2022-03-27T05:04:19.348800Z",
     "shell.execute_reply.started": "2022-03-27T04:51:55.671760Z"
    },
    "papermill": {
     "duration": 0.051472,
     "end_time": "2022-03-27T05:04:19.349717",
     "exception": false,
     "start_time": "2022-03-27T05:04:19.298245",
     "status": "completed"
    },
    "tags": []
   },
   "outputs": [
    {
     "name": "stdout",
     "output_type": "stream",
     "text": [
      "/kaggle/input/data-storm-30/validation_data.csv\n",
      "/kaggle/input/data-storm-30/train_data.csv\n",
      "/kaggle/input/data-storm-30/test_data.csv\n",
      "/kaggle/input/data-storm-30/DataStorm3.0_KaggleProblemStatement.pdf\n"
     ]
    }
   ],
   "source": [
    "# This Python 3 environment comes with many helpful analytics libraries installed\n",
    "# It is defined by the kaggle/python Docker image: https://github.com/kaggle/docker-python\n",
    "# For example, here's several helpful packages to load\n",
    "\n",
    "import numpy as np # linear algebra\n",
    "import pandas as pd # data processing, CSV file I/O (e.g. pd.read_csv)\n",
    "\n",
    "# Input data files are available in the read-only \"../input/\" directory\n",
    "# For example, running this (by clicking run or pressing Shift+Enter) will list all files under the input directory\n",
    "\n",
    "import os\n",
    "for dirname, _, filenames in os.walk('/kaggle/input'):\n",
    "    for filename in filenames:\n",
    "        print(os.path.join(dirname, filename))\n",
    "\n",
    "# You can write up to 20GB to the current directory (/kaggle/working/) that gets preserved as output when you create a version using \"Save & Run All\" \n",
    "# You can also write temporary files to /kaggle/temp/, but they won't be saved outside of the current session"
   ]
  },
  {
   "cell_type": "markdown",
   "id": "f7883ceb",
   "metadata": {
    "papermill": {
     "duration": 0.032214,
     "end_time": "2022-03-27T05:04:19.415208",
     "exception": false,
     "start_time": "2022-03-27T05:04:19.382994",
     "status": "completed"
    },
    "tags": []
   },
   "source": [
    "# Sales Demand Forecasting\n",
    "\n",
    "### Business Problem\n",
    "Forecasting sales is one of the most fundamental problems most retail chains have\n",
    "\n",
    "### Use-case Definition\n",
    "Retail Chain A has used traditional forecasting methods to estimate projected sales for each\n",
    "item across stores, But this method in not accurate.Therefore they need to improve forecasting through advanced analytics and machine learning techniques.\n",
    "\n",
    "### Data Description\n",
    "CategoryCode: The items are classified into 4 different categories; this column refers to its code.\n",
    "\n",
    "ItemCode: An identifier for each item\n",
    "\n",
    "DateID: The date for the respective sales value\n",
    "\n",
    "DailySales: Sales value in quantity units for the respective item on the given date.\n",
    "\n",
    "Week:\n",
    "\n",
    "WeeklySales: Sales value in quantity units for the respective item for the given week.\n"
   ]
  },
  {
   "cell_type": "markdown",
   "id": "dd9fb2b2",
   "metadata": {
    "papermill": {
     "duration": 0.032801,
     "end_time": "2022-03-27T05:04:19.480602",
     "exception": false,
     "start_time": "2022-03-27T05:04:19.447801",
     "status": "completed"
    },
    "tags": []
   },
   "source": [
    "# Import the data"
   ]
  },
  {
   "cell_type": "code",
   "execution_count": 2,
   "id": "a4257e3e",
   "metadata": {
    "execution": {
     "iopub.execute_input": "2022-03-27T05:04:19.551357Z",
     "iopub.status.busy": "2022-03-27T05:04:19.550714Z",
     "iopub.status.idle": "2022-03-27T05:04:19.592834Z",
     "shell.execute_reply": "2022-03-27T05:04:19.592103Z",
     "shell.execute_reply.started": "2022-03-27T04:51:55.712497Z"
    },
    "papermill": {
     "duration": 0.07982,
     "end_time": "2022-03-27T05:04:19.593021",
     "exception": false,
     "start_time": "2022-03-27T05:04:19.513201",
     "status": "completed"
    },
    "tags": []
   },
   "outputs": [],
   "source": [
    "tr_sales=pd.read_csv('../input/data-storm-30/train_data.csv')\n",
    "val_sales=pd.read_csv('../input/data-storm-30/validation_data.csv')"
   ]
  },
  {
   "cell_type": "markdown",
   "id": "b6186400",
   "metadata": {
    "papermill": {
     "duration": 0.046881,
     "end_time": "2022-03-27T05:04:19.678488",
     "exception": false,
     "start_time": "2022-03-27T05:04:19.631607",
     "status": "completed"
    },
    "tags": []
   },
   "source": [
    "### Validation Data"
   ]
  },
  {
   "cell_type": "code",
   "execution_count": 3,
   "id": "48e199e1",
   "metadata": {
    "execution": {
     "iopub.execute_input": "2022-03-27T05:04:19.757596Z",
     "iopub.status.busy": "2022-03-27T05:04:19.756640Z",
     "iopub.status.idle": "2022-03-27T05:04:19.771320Z",
     "shell.execute_reply": "2022-03-27T05:04:19.771843Z",
     "shell.execute_reply.started": "2022-03-27T04:51:55.766928Z"
    },
    "papermill": {
     "duration": 0.056952,
     "end_time": "2022-03-27T05:04:19.772014",
     "exception": false,
     "start_time": "2022-03-27T05:04:19.715062",
     "status": "completed"
    },
    "tags": []
   },
   "outputs": [
    {
     "data": {
      "text/html": [
       "<div>\n",
       "<style scoped>\n",
       "    .dataframe tbody tr th:only-of-type {\n",
       "        vertical-align: middle;\n",
       "    }\n",
       "\n",
       "    .dataframe tbody tr th {\n",
       "        vertical-align: top;\n",
       "    }\n",
       "\n",
       "    .dataframe thead th {\n",
       "        text-align: right;\n",
       "    }\n",
       "</style>\n",
       "<table border=\"1\" class=\"dataframe\">\n",
       "  <thead>\n",
       "    <tr style=\"text-align: right;\">\n",
       "      <th></th>\n",
       "      <th>CategoryCode</th>\n",
       "      <th>ItemCode</th>\n",
       "      <th>Week</th>\n",
       "      <th>WeeklySales</th>\n",
       "    </tr>\n",
       "  </thead>\n",
       "  <tbody>\n",
       "    <tr>\n",
       "      <th>0</th>\n",
       "      <td>category_2</td>\n",
       "      <td>1044502</td>\n",
       "      <td>w1</td>\n",
       "      <td>11</td>\n",
       "    </tr>\n",
       "    <tr>\n",
       "      <th>1</th>\n",
       "      <td>category_2</td>\n",
       "      <td>1105009</td>\n",
       "      <td>w1</td>\n",
       "      <td>11</td>\n",
       "    </tr>\n",
       "    <tr>\n",
       "      <th>2</th>\n",
       "      <td>category_2</td>\n",
       "      <td>913561</td>\n",
       "      <td>w4</td>\n",
       "      <td>5</td>\n",
       "    </tr>\n",
       "    <tr>\n",
       "      <th>3</th>\n",
       "      <td>category_1</td>\n",
       "      <td>1048975</td>\n",
       "      <td>w4</td>\n",
       "      <td>30</td>\n",
       "    </tr>\n",
       "    <tr>\n",
       "      <th>4</th>\n",
       "      <td>category_1</td>\n",
       "      <td>17287</td>\n",
       "      <td>w2</td>\n",
       "      <td>60</td>\n",
       "    </tr>\n",
       "  </tbody>\n",
       "</table>\n",
       "</div>"
      ],
      "text/plain": [
       "  CategoryCode  ItemCode Week  WeeklySales\n",
       "0   category_2   1044502   w1           11\n",
       "1   category_2   1105009   w1           11\n",
       "2   category_2    913561   w4            5\n",
       "3   category_1   1048975   w4           30\n",
       "4   category_1     17287   w2           60"
      ]
     },
     "execution_count": 3,
     "metadata": {},
     "output_type": "execute_result"
    }
   ],
   "source": [
    "val_sales.head()# Check the first five data"
   ]
  },
  {
   "cell_type": "code",
   "execution_count": 4,
   "id": "eb784747",
   "metadata": {
    "execution": {
     "iopub.execute_input": "2022-03-27T05:04:19.851480Z",
     "iopub.status.busy": "2022-03-27T05:04:19.850787Z",
     "iopub.status.idle": "2022-03-27T05:04:19.855332Z",
     "shell.execute_reply": "2022-03-27T05:04:19.854672Z",
     "shell.execute_reply.started": "2022-03-27T04:52:01.277301Z"
    },
    "papermill": {
     "duration": 0.049825,
     "end_time": "2022-03-27T05:04:19.855476",
     "exception": false,
     "start_time": "2022-03-27T05:04:19.805651",
     "status": "completed"
    },
    "tags": []
   },
   "outputs": [
    {
     "data": {
      "text/plain": [
       "(array(['w1', 'w4', 'w2', 'w3'], dtype=object), (370, 4))"
      ]
     },
     "execution_count": 4,
     "metadata": {},
     "output_type": "execute_result"
    }
   ],
   "source": [
    "# Check the first five data\n",
    "val_sales['Week'].unique(),val_sales.shape"
   ]
  },
  {
   "cell_type": "code",
   "execution_count": 5,
   "id": "7408679d",
   "metadata": {
    "execution": {
     "iopub.execute_input": "2022-03-27T05:04:19.954058Z",
     "iopub.status.busy": "2022-03-27T05:04:19.941859Z",
     "iopub.status.idle": "2022-03-27T05:04:19.978509Z",
     "shell.execute_reply": "2022-03-27T05:04:19.979263Z",
     "shell.execute_reply.started": "2022-03-27T04:52:04.537179Z"
    },
    "papermill": {
     "duration": 0.080891,
     "end_time": "2022-03-27T05:04:19.979520",
     "exception": false,
     "start_time": "2022-03-27T05:04:19.898629",
     "status": "completed"
    },
    "tags": []
   },
   "outputs": [
    {
     "data": {
      "text/html": [
       "<div>\n",
       "<style scoped>\n",
       "    .dataframe tbody tr th:only-of-type {\n",
       "        vertical-align: middle;\n",
       "    }\n",
       "\n",
       "    .dataframe tbody tr th {\n",
       "        vertical-align: top;\n",
       "    }\n",
       "\n",
       "    .dataframe thead th {\n",
       "        text-align: right;\n",
       "    }\n",
       "</style>\n",
       "<table border=\"1\" class=\"dataframe\">\n",
       "  <thead>\n",
       "    <tr style=\"text-align: right;\">\n",
       "      <th></th>\n",
       "      <th>CategoryCode</th>\n",
       "      <th>ItemCode</th>\n",
       "      <th>Date</th>\n",
       "      <th>WeeklySales</th>\n",
       "    </tr>\n",
       "  </thead>\n",
       "  <tbody>\n",
       "    <tr>\n",
       "      <th>0</th>\n",
       "      <td>category_2</td>\n",
       "      <td>1044502</td>\n",
       "      <td>2022-02-20</td>\n",
       "      <td>11</td>\n",
       "    </tr>\n",
       "    <tr>\n",
       "      <th>1</th>\n",
       "      <td>category_2</td>\n",
       "      <td>1105009</td>\n",
       "      <td>2022-02-20</td>\n",
       "      <td>11</td>\n",
       "    </tr>\n",
       "    <tr>\n",
       "      <th>2</th>\n",
       "      <td>category_2</td>\n",
       "      <td>913561</td>\n",
       "      <td>2022-03-13</td>\n",
       "      <td>5</td>\n",
       "    </tr>\n",
       "    <tr>\n",
       "      <th>3</th>\n",
       "      <td>category_1</td>\n",
       "      <td>1048975</td>\n",
       "      <td>2022-03-13</td>\n",
       "      <td>30</td>\n",
       "    </tr>\n",
       "    <tr>\n",
       "      <th>4</th>\n",
       "      <td>category_1</td>\n",
       "      <td>17287</td>\n",
       "      <td>2022-02-27</td>\n",
       "      <td>60</td>\n",
       "    </tr>\n",
       "  </tbody>\n",
       "</table>\n",
       "</div>"
      ],
      "text/plain": [
       "  CategoryCode  ItemCode       Date  WeeklySales\n",
       "0   category_2   1044502 2022-02-20           11\n",
       "1   category_2   1105009 2022-02-20           11\n",
       "2   category_2    913561 2022-03-13            5\n",
       "3   category_1   1048975 2022-03-13           30\n",
       "4   category_1     17287 2022-02-27           60"
      ]
     },
     "execution_count": 5,
     "metadata": {},
     "output_type": "execute_result"
    }
   ],
   "source": [
    "#Convert \n",
    "val_sales['Week'].replace(to_replace = ['w1', 'w2','w3','w4'],value =['2/20/2022','2/27/2022','3/6/2022','3/13/2022'],inplace=True)\n",
    "val_sales['Date'] = pd.to_datetime(val_sales['Week'])\n",
    "val_sales = val_sales[['CategoryCode','ItemCode','Date','WeeklySales']]\n",
    "val_sales.head()"
   ]
  },
  {
   "cell_type": "code",
   "execution_count": 6,
   "id": "017c959b",
   "metadata": {
    "execution": {
     "iopub.execute_input": "2022-03-27T05:04:20.075552Z",
     "iopub.status.busy": "2022-03-27T05:04:20.074434Z",
     "iopub.status.idle": "2022-03-27T05:04:20.086561Z",
     "shell.execute_reply": "2022-03-27T05:04:20.087124Z",
     "shell.execute_reply.started": "2022-03-27T04:52:08.431715Z"
    },
    "papermill": {
     "duration": 0.055244,
     "end_time": "2022-03-27T05:04:20.087327",
     "exception": false,
     "start_time": "2022-03-27T05:04:20.032083",
     "status": "completed"
    },
    "tags": []
   },
   "outputs": [
    {
     "data": {
      "text/html": [
       "<div>\n",
       "<style scoped>\n",
       "    .dataframe tbody tr th:only-of-type {\n",
       "        vertical-align: middle;\n",
       "    }\n",
       "\n",
       "    .dataframe tbody tr th {\n",
       "        vertical-align: top;\n",
       "    }\n",
       "\n",
       "    .dataframe thead th {\n",
       "        text-align: right;\n",
       "    }\n",
       "</style>\n",
       "<table border=\"1\" class=\"dataframe\">\n",
       "  <thead>\n",
       "    <tr style=\"text-align: right;\">\n",
       "      <th></th>\n",
       "      <th>CategoryCode</th>\n",
       "      <th>ItemCode</th>\n",
       "      <th>Date</th>\n",
       "      <th>WeeklySales</th>\n",
       "      <th>month</th>\n",
       "      <th>day</th>\n",
       "    </tr>\n",
       "  </thead>\n",
       "  <tbody>\n",
       "    <tr>\n",
       "      <th>0</th>\n",
       "      <td>category_2</td>\n",
       "      <td>1044502</td>\n",
       "      <td>2022-02-20</td>\n",
       "      <td>11</td>\n",
       "      <td>2</td>\n",
       "      <td>20</td>\n",
       "    </tr>\n",
       "    <tr>\n",
       "      <th>1</th>\n",
       "      <td>category_2</td>\n",
       "      <td>1105009</td>\n",
       "      <td>2022-02-20</td>\n",
       "      <td>11</td>\n",
       "      <td>2</td>\n",
       "      <td>20</td>\n",
       "    </tr>\n",
       "    <tr>\n",
       "      <th>2</th>\n",
       "      <td>category_2</td>\n",
       "      <td>913561</td>\n",
       "      <td>2022-03-13</td>\n",
       "      <td>5</td>\n",
       "      <td>3</td>\n",
       "      <td>13</td>\n",
       "    </tr>\n",
       "    <tr>\n",
       "      <th>3</th>\n",
       "      <td>category_1</td>\n",
       "      <td>1048975</td>\n",
       "      <td>2022-03-13</td>\n",
       "      <td>30</td>\n",
       "      <td>3</td>\n",
       "      <td>13</td>\n",
       "    </tr>\n",
       "    <tr>\n",
       "      <th>4</th>\n",
       "      <td>category_1</td>\n",
       "      <td>17287</td>\n",
       "      <td>2022-02-27</td>\n",
       "      <td>60</td>\n",
       "      <td>2</td>\n",
       "      <td>27</td>\n",
       "    </tr>\n",
       "  </tbody>\n",
       "</table>\n",
       "</div>"
      ],
      "text/plain": [
       "  CategoryCode  ItemCode       Date  WeeklySales  month  day\n",
       "0   category_2   1044502 2022-02-20           11      2   20\n",
       "1   category_2   1105009 2022-02-20           11      2   20\n",
       "2   category_2    913561 2022-03-13            5      3   13\n",
       "3   category_1   1048975 2022-03-13           30      3   13\n",
       "4   category_1     17287 2022-02-27           60      2   27"
      ]
     },
     "execution_count": 6,
     "metadata": {},
     "output_type": "execute_result"
    }
   ],
   "source": [
    "val_sales['month']=val_sales['Date'].dt.month\n",
    "val_sales['day']=val_sales['Date'].dt.day\n",
    "val_sales.head()"
   ]
  },
  {
   "cell_type": "code",
   "execution_count": 7,
   "id": "96edabd5",
   "metadata": {
    "execution": {
     "iopub.execute_input": "2022-03-27T05:04:20.167694Z",
     "iopub.status.busy": "2022-03-27T05:04:20.166664Z",
     "iopub.status.idle": "2022-03-27T05:04:20.169116Z",
     "shell.execute_reply": "2022-03-27T05:04:20.168524Z",
     "shell.execute_reply.started": "2022-03-27T04:52:11.862030Z"
    },
    "papermill": {
     "duration": 0.041424,
     "end_time": "2022-03-27T05:04:20.169286",
     "exception": false,
     "start_time": "2022-03-27T05:04:20.127862",
     "status": "completed"
    },
    "tags": []
   },
   "outputs": [],
   "source": [
    "#Dummies = pd.get_dummies(val_sales.CategoryCode)\n",
    "#val_sales_Merged=pd.concat([val_sales.drop('CategoryCode',axis='columns'),Dummies.drop('category_4',axis='columns')],axis='columns')\n",
    "#val_sales_Merged"
   ]
  },
  {
   "cell_type": "code",
   "execution_count": 8,
   "id": "fb926bcc",
   "metadata": {
    "execution": {
     "iopub.execute_input": "2022-03-27T05:04:20.261964Z",
     "iopub.status.busy": "2022-03-27T05:04:20.261019Z",
     "iopub.status.idle": "2022-03-27T05:04:20.264406Z",
     "shell.execute_reply": "2022-03-27T05:04:20.265032Z",
     "shell.execute_reply.started": "2022-03-27T04:52:14.657062Z"
    },
    "papermill": {
     "duration": 0.055817,
     "end_time": "2022-03-27T05:04:20.265243",
     "exception": false,
     "start_time": "2022-03-27T05:04:20.209426",
     "status": "completed"
    },
    "tags": []
   },
   "outputs": [],
   "source": [
    "# Validation Split\n",
    "val_Xtes = val_sales[['ItemCode','month','day']].values#.reshape(-1, 1) #'category_1','category_2','category_3'\n",
    "val_ytes = val_sales['WeeklySales'].values#.reshape(-1, 1)"
   ]
  },
  {
   "cell_type": "markdown",
   "id": "12ae1003",
   "metadata": {
    "papermill": {
     "duration": 0.035712,
     "end_time": "2022-03-27T05:04:20.340693",
     "exception": false,
     "start_time": "2022-03-27T05:04:20.304981",
     "status": "completed"
    },
    "tags": []
   },
   "source": [
    "### Train Data"
   ]
  },
  {
   "cell_type": "code",
   "execution_count": 9,
   "id": "adc29a7c",
   "metadata": {
    "execution": {
     "iopub.execute_input": "2022-03-27T05:04:20.417855Z",
     "iopub.status.busy": "2022-03-27T05:04:20.416854Z",
     "iopub.status.idle": "2022-03-27T05:04:20.423676Z",
     "shell.execute_reply": "2022-03-27T05:04:20.424485Z",
     "shell.execute_reply.started": "2022-03-27T04:52:18.031656Z"
    },
    "papermill": {
     "duration": 0.048101,
     "end_time": "2022-03-27T05:04:20.424714",
     "exception": false,
     "start_time": "2022-03-27T05:04:20.376613",
     "status": "completed"
    },
    "tags": []
   },
   "outputs": [
    {
     "data": {
      "text/html": [
       "<div>\n",
       "<style scoped>\n",
       "    .dataframe tbody tr th:only-of-type {\n",
       "        vertical-align: middle;\n",
       "    }\n",
       "\n",
       "    .dataframe tbody tr th {\n",
       "        vertical-align: top;\n",
       "    }\n",
       "\n",
       "    .dataframe thead th {\n",
       "        text-align: right;\n",
       "    }\n",
       "</style>\n",
       "<table border=\"1\" class=\"dataframe\">\n",
       "  <thead>\n",
       "    <tr style=\"text-align: right;\">\n",
       "      <th></th>\n",
       "      <th>CategoryCode</th>\n",
       "      <th>ItemCode</th>\n",
       "      <th>DateID</th>\n",
       "      <th>DailySales</th>\n",
       "    </tr>\n",
       "  </thead>\n",
       "  <tbody>\n",
       "    <tr>\n",
       "      <th>0</th>\n",
       "      <td>category_2</td>\n",
       "      <td>117610</td>\n",
       "      <td>11/6/2021</td>\n",
       "      <td>7</td>\n",
       "    </tr>\n",
       "    <tr>\n",
       "      <th>1</th>\n",
       "      <td>category_4</td>\n",
       "      <td>836584</td>\n",
       "      <td>11/18/2021</td>\n",
       "      <td>16</td>\n",
       "    </tr>\n",
       "    <tr>\n",
       "      <th>2</th>\n",
       "      <td>category_1</td>\n",
       "      <td>370195</td>\n",
       "      <td>1/24/2022</td>\n",
       "      <td>6</td>\n",
       "    </tr>\n",
       "    <tr>\n",
       "      <th>3</th>\n",
       "      <td>category_2</td>\n",
       "      <td>172582</td>\n",
       "      <td>10/30/2021</td>\n",
       "      <td>5</td>\n",
       "    </tr>\n",
       "    <tr>\n",
       "      <th>4</th>\n",
       "      <td>category_2</td>\n",
       "      <td>1006009</td>\n",
       "      <td>10/30/2021</td>\n",
       "      <td>5</td>\n",
       "    </tr>\n",
       "  </tbody>\n",
       "</table>\n",
       "</div>"
      ],
      "text/plain": [
       "  CategoryCode  ItemCode      DateID  DailySales\n",
       "0   category_2    117610   11/6/2021           7\n",
       "1   category_4    836584  11/18/2021          16\n",
       "2   category_1    370195   1/24/2022           6\n",
       "3   category_2    172582  10/30/2021           5\n",
       "4   category_2   1006009  10/30/2021           5"
      ]
     },
     "execution_count": 9,
     "metadata": {},
     "output_type": "execute_result"
    }
   ],
   "source": [
    "tr_sales.head()"
   ]
  },
  {
   "cell_type": "code",
   "execution_count": 10,
   "id": "4935945f",
   "metadata": {
    "execution": {
     "iopub.execute_input": "2022-03-27T05:04:20.504504Z",
     "iopub.status.busy": "2022-03-27T05:04:20.503799Z",
     "iopub.status.idle": "2022-03-27T05:04:20.517760Z",
     "shell.execute_reply": "2022-03-27T05:04:20.518355Z",
     "shell.execute_reply.started": "2022-03-27T04:52:25.576686Z"
    },
    "papermill": {
     "duration": 0.053982,
     "end_time": "2022-03-27T05:04:20.518544",
     "exception": false,
     "start_time": "2022-03-27T05:04:20.464562",
     "status": "completed"
    },
    "tags": []
   },
   "outputs": [
    {
     "data": {
      "text/plain": [
       "CategoryCode    0\n",
       "ItemCode        0\n",
       "DateID          0\n",
       "DailySales      0\n",
       "dtype: int64"
      ]
     },
     "execution_count": 10,
     "metadata": {},
     "output_type": "execute_result"
    }
   ],
   "source": [
    "tr_sales.isnull().sum()"
   ]
  },
  {
   "cell_type": "code",
   "execution_count": 11,
   "id": "7f0166f1",
   "metadata": {
    "execution": {
     "iopub.execute_input": "2022-03-27T05:04:20.595062Z",
     "iopub.status.busy": "2022-03-27T05:04:20.594079Z",
     "iopub.status.idle": "2022-03-27T05:04:20.619625Z",
     "shell.execute_reply": "2022-03-27T05:04:20.618894Z",
     "shell.execute_reply.started": "2022-03-27T04:52:26.262101Z"
    },
    "papermill": {
     "duration": 0.064885,
     "end_time": "2022-03-27T05:04:20.619774",
     "exception": false,
     "start_time": "2022-03-27T05:04:20.554889",
     "status": "completed"
    },
    "tags": []
   },
   "outputs": [
    {
     "name": "stdout",
     "output_type": "stream",
     "text": [
      "<class 'pandas.core.frame.DataFrame'>\n",
      "RangeIndex: 19921 entries, 0 to 19920\n",
      "Data columns (total 4 columns):\n",
      " #   Column        Non-Null Count  Dtype \n",
      "---  ------        --------------  ----- \n",
      " 0   CategoryCode  19921 non-null  object\n",
      " 1   ItemCode      19921 non-null  int64 \n",
      " 2   DateID        19921 non-null  object\n",
      " 3   DailySales    19921 non-null  int64 \n",
      "dtypes: int64(2), object(2)\n",
      "memory usage: 622.7+ KB\n"
     ]
    }
   ],
   "source": [
    "tr_sales.info()"
   ]
  },
  {
   "cell_type": "code",
   "execution_count": 12,
   "id": "4e60afef",
   "metadata": {
    "execution": {
     "iopub.execute_input": "2022-03-27T05:04:20.700236Z",
     "iopub.status.busy": "2022-03-27T05:04:20.699516Z",
     "iopub.status.idle": "2022-03-27T05:04:20.725594Z",
     "shell.execute_reply": "2022-03-27T05:04:20.726136Z",
     "shell.execute_reply.started": "2022-03-27T04:52:27.091826Z"
    },
    "papermill": {
     "duration": 0.069548,
     "end_time": "2022-03-27T05:04:20.726373",
     "exception": false,
     "start_time": "2022-03-27T05:04:20.656825",
     "status": "completed"
    },
    "tags": []
   },
   "outputs": [
    {
     "data": {
      "text/html": [
       "<div>\n",
       "<style scoped>\n",
       "    .dataframe tbody tr th:only-of-type {\n",
       "        vertical-align: middle;\n",
       "    }\n",
       "\n",
       "    .dataframe tbody tr th {\n",
       "        vertical-align: top;\n",
       "    }\n",
       "\n",
       "    .dataframe thead th {\n",
       "        text-align: right;\n",
       "    }\n",
       "</style>\n",
       "<table border=\"1\" class=\"dataframe\">\n",
       "  <thead>\n",
       "    <tr style=\"text-align: right;\">\n",
       "      <th></th>\n",
       "      <th>CategoryCode</th>\n",
       "      <th>ItemCode</th>\n",
       "      <th>Date</th>\n",
       "      <th>DailySales</th>\n",
       "    </tr>\n",
       "  </thead>\n",
       "  <tbody>\n",
       "    <tr>\n",
       "      <th>0</th>\n",
       "      <td>category_2</td>\n",
       "      <td>117610</td>\n",
       "      <td>2021-11-06</td>\n",
       "      <td>7</td>\n",
       "    </tr>\n",
       "    <tr>\n",
       "      <th>1</th>\n",
       "      <td>category_4</td>\n",
       "      <td>836584</td>\n",
       "      <td>2021-11-18</td>\n",
       "      <td>16</td>\n",
       "    </tr>\n",
       "    <tr>\n",
       "      <th>2</th>\n",
       "      <td>category_1</td>\n",
       "      <td>370195</td>\n",
       "      <td>2022-01-24</td>\n",
       "      <td>6</td>\n",
       "    </tr>\n",
       "    <tr>\n",
       "      <th>3</th>\n",
       "      <td>category_2</td>\n",
       "      <td>172582</td>\n",
       "      <td>2021-10-30</td>\n",
       "      <td>5</td>\n",
       "    </tr>\n",
       "    <tr>\n",
       "      <th>4</th>\n",
       "      <td>category_2</td>\n",
       "      <td>1006009</td>\n",
       "      <td>2021-10-30</td>\n",
       "      <td>5</td>\n",
       "    </tr>\n",
       "  </tbody>\n",
       "</table>\n",
       "</div>"
      ],
      "text/plain": [
       "  CategoryCode  ItemCode       Date  DailySales\n",
       "0   category_2    117610 2021-11-06           7\n",
       "1   category_4    836584 2021-11-18          16\n",
       "2   category_1    370195 2022-01-24           6\n",
       "3   category_2    172582 2021-10-30           5\n",
       "4   category_2   1006009 2021-10-30           5"
      ]
     },
     "execution_count": 12,
     "metadata": {},
     "output_type": "execute_result"
    }
   ],
   "source": [
    "#Change DateID to date time\n",
    "tr_sales['Date'] = pd.to_datetime(tr_sales['DateID'])\n",
    "#tr_sales['Year'] = pd.to_datetime(tr_sales['Date']).dt.year\n",
    "#tr_sales['Month'] = pd.to_datetime(tr_sales['Date']).dt.month\n",
    "#tr_sales['Week'] = pd.to_datetime(tr_sales['Date']).dt.week\n",
    "# tr_sales['Day'] = pd.to_datetime(tr_sales['Date']).dt.day\n",
    "# tr_sales.sort_values(by=['Date'], inplace=True, ascending=True)\n",
    "trr_sales=tr_sales[['CategoryCode','ItemCode','Date','DailySales']]\n",
    "#trr_sales['CategoryCode'].replace(to_replace = ['category_1', 'category_2','category_3','category_4'],value =[1,2,3,4],inplace=True)\n",
    "trr_sales.head()"
   ]
  },
  {
   "cell_type": "code",
   "execution_count": 13,
   "id": "d08f971d",
   "metadata": {
    "execution": {
     "iopub.execute_input": "2022-03-27T05:04:20.804540Z",
     "iopub.status.busy": "2022-03-27T05:04:20.803779Z",
     "iopub.status.idle": "2022-03-27T05:04:20.808956Z",
     "shell.execute_reply": "2022-03-27T05:04:20.809501Z",
     "shell.execute_reply.started": "2022-03-27T04:52:28.317273Z"
    },
    "papermill": {
     "duration": 0.04509,
     "end_time": "2022-03-27T05:04:20.809689",
     "exception": false,
     "start_time": "2022-03-27T05:04:20.764599",
     "status": "completed"
    },
    "tags": []
   },
   "outputs": [],
   "source": [
    "t = trr_sales[['CategoryCode','ItemCode']]"
   ]
  },
  {
   "cell_type": "code",
   "execution_count": 14,
   "id": "29103fca",
   "metadata": {
    "execution": {
     "iopub.execute_input": "2022-03-27T05:04:20.888006Z",
     "iopub.status.busy": "2022-03-27T05:04:20.887375Z",
     "iopub.status.idle": "2022-03-27T05:04:20.898002Z",
     "shell.execute_reply": "2022-03-27T05:04:20.898630Z",
     "shell.execute_reply.started": "2022-03-27T04:52:29.396472Z"
    },
    "papermill": {
     "duration": 0.05138,
     "end_time": "2022-03-27T05:04:20.898800",
     "exception": false,
     "start_time": "2022-03-27T05:04:20.847420",
     "status": "completed"
    },
    "tags": []
   },
   "outputs": [
    {
     "data": {
      "text/html": [
       "<div>\n",
       "<style scoped>\n",
       "    .dataframe tbody tr th:only-of-type {\n",
       "        vertical-align: middle;\n",
       "    }\n",
       "\n",
       "    .dataframe tbody tr th {\n",
       "        vertical-align: top;\n",
       "    }\n",
       "\n",
       "    .dataframe thead th {\n",
       "        text-align: right;\n",
       "    }\n",
       "</style>\n",
       "<table border=\"1\" class=\"dataframe\">\n",
       "  <thead>\n",
       "    <tr style=\"text-align: right;\">\n",
       "      <th></th>\n",
       "      <th>ItemCode</th>\n",
       "      <th>Date</th>\n",
       "      <th>DailySales</th>\n",
       "    </tr>\n",
       "  </thead>\n",
       "  <tbody>\n",
       "    <tr>\n",
       "      <th>0</th>\n",
       "      <td>117610</td>\n",
       "      <td>2021-11-06</td>\n",
       "      <td>7</td>\n",
       "    </tr>\n",
       "    <tr>\n",
       "      <th>1</th>\n",
       "      <td>836584</td>\n",
       "      <td>2021-11-18</td>\n",
       "      <td>16</td>\n",
       "    </tr>\n",
       "    <tr>\n",
       "      <th>2</th>\n",
       "      <td>370195</td>\n",
       "      <td>2022-01-24</td>\n",
       "      <td>6</td>\n",
       "    </tr>\n",
       "    <tr>\n",
       "      <th>3</th>\n",
       "      <td>172582</td>\n",
       "      <td>2021-10-30</td>\n",
       "      <td>5</td>\n",
       "    </tr>\n",
       "    <tr>\n",
       "      <th>4</th>\n",
       "      <td>1006009</td>\n",
       "      <td>2021-10-30</td>\n",
       "      <td>5</td>\n",
       "    </tr>\n",
       "  </tbody>\n",
       "</table>\n",
       "</div>"
      ],
      "text/plain": [
       "   ItemCode       Date  DailySales\n",
       "0    117610 2021-11-06           7\n",
       "1    836584 2021-11-18          16\n",
       "2    370195 2022-01-24           6\n",
       "3    172582 2021-10-30           5\n",
       "4   1006009 2021-10-30           5"
      ]
     },
     "execution_count": 14,
     "metadata": {},
     "output_type": "execute_result"
    }
   ],
   "source": [
    "#Convert CategoryCode to number\n",
    "#trrCat_sales = trr_sales['CategoryCode'].replace(to_replace = ['category_1', 'category_2','category_3','category_4'],value =[1,2,3,4],inplace=True)\n",
    "trr_sales = trr_sales[['ItemCode','Date','DailySales']]\n",
    "trr_sales.head()"
   ]
  },
  {
   "cell_type": "code",
   "execution_count": 15,
   "id": "64536005",
   "metadata": {
    "execution": {
     "iopub.execute_input": "2022-03-27T05:04:20.978792Z",
     "iopub.status.busy": "2022-03-27T05:04:20.978015Z",
     "iopub.status.idle": "2022-03-27T05:04:21.634220Z",
     "shell.execute_reply": "2022-03-27T05:04:21.633529Z",
     "shell.execute_reply.started": "2022-03-27T04:52:30.556384Z"
    },
    "papermill": {
     "duration": 0.697136,
     "end_time": "2022-03-27T05:04:21.634368",
     "exception": false,
     "start_time": "2022-03-27T05:04:20.937232",
     "status": "completed"
    },
    "tags": []
   },
   "outputs": [
    {
     "data": {
      "text/html": [
       "<div>\n",
       "<style scoped>\n",
       "    .dataframe tbody tr th:only-of-type {\n",
       "        vertical-align: middle;\n",
       "    }\n",
       "\n",
       "    .dataframe tbody tr th {\n",
       "        vertical-align: top;\n",
       "    }\n",
       "\n",
       "    .dataframe thead th {\n",
       "        text-align: right;\n",
       "    }\n",
       "</style>\n",
       "<table border=\"1\" class=\"dataframe\">\n",
       "  <thead>\n",
       "    <tr style=\"text-align: right;\">\n",
       "      <th></th>\n",
       "      <th>level_0</th>\n",
       "      <th>Date</th>\n",
       "      <th>ItemCode</th>\n",
       "      <th>DailySales</th>\n",
       "    </tr>\n",
       "  </thead>\n",
       "  <tbody>\n",
       "    <tr>\n",
       "      <th>0</th>\n",
       "      <td>0</td>\n",
       "      <td>2021-10-04</td>\n",
       "      <td>13672</td>\n",
       "      <td>31</td>\n",
       "    </tr>\n",
       "    <tr>\n",
       "      <th>1</th>\n",
       "      <td>0</td>\n",
       "      <td>2021-10-11</td>\n",
       "      <td>20508</td>\n",
       "      <td>42</td>\n",
       "    </tr>\n",
       "    <tr>\n",
       "      <th>2</th>\n",
       "      <td>0</td>\n",
       "      <td>2021-10-18</td>\n",
       "      <td>20508</td>\n",
       "      <td>53</td>\n",
       "    </tr>\n",
       "    <tr>\n",
       "      <th>3</th>\n",
       "      <td>0</td>\n",
       "      <td>2021-10-25</td>\n",
       "      <td>23926</td>\n",
       "      <td>40</td>\n",
       "    </tr>\n",
       "    <tr>\n",
       "      <th>4</th>\n",
       "      <td>0</td>\n",
       "      <td>2021-11-01</td>\n",
       "      <td>23926</td>\n",
       "      <td>39</td>\n",
       "    </tr>\n",
       "  </tbody>\n",
       "</table>\n",
       "</div>"
      ],
      "text/plain": [
       "   level_0       Date  ItemCode  DailySales\n",
       "0        0 2021-10-04     13672          31\n",
       "1        0 2021-10-11     20508          42\n",
       "2        0 2021-10-18     20508          53\n",
       "3        0 2021-10-25     23926          40\n",
       "4        0 2021-11-01     23926          39"
      ]
     },
     "execution_count": 15,
     "metadata": {},
     "output_type": "execute_result"
    }
   ],
   "source": [
    "tr_weekly_data = trr_sales.groupby(\"ItemCode\",as_index=False).resample('W-MON',on='Date').sum().reset_index()#.sort_values(by='Date')\n",
    "#tr_weekly_data = weekly_data[['ItemCode','Date','DailySales']]\n",
    "tr_weekly_data.head()"
   ]
  },
  {
   "cell_type": "code",
   "execution_count": 16,
   "id": "6796f40e",
   "metadata": {
    "execution": {
     "iopub.execute_input": "2022-03-27T05:04:21.725053Z",
     "iopub.status.busy": "2022-03-27T05:04:21.718774Z",
     "iopub.status.idle": "2022-03-27T05:04:21.728118Z",
     "shell.execute_reply": "2022-03-27T05:04:21.728618Z",
     "shell.execute_reply.started": "2022-03-27T04:52:31.622564Z"
    },
    "papermill": {
     "duration": 0.05629,
     "end_time": "2022-03-27T05:04:21.728810",
     "exception": false,
     "start_time": "2022-03-27T05:04:21.672520",
     "status": "completed"
    },
    "tags": []
   },
   "outputs": [
    {
     "data": {
      "text/html": [
       "<div>\n",
       "<style scoped>\n",
       "    .dataframe tbody tr th:only-of-type {\n",
       "        vertical-align: middle;\n",
       "    }\n",
       "\n",
       "    .dataframe tbody tr th {\n",
       "        vertical-align: top;\n",
       "    }\n",
       "\n",
       "    .dataframe thead th {\n",
       "        text-align: right;\n",
       "    }\n",
       "</style>\n",
       "<table border=\"1\" class=\"dataframe\">\n",
       "  <thead>\n",
       "    <tr style=\"text-align: right;\">\n",
       "      <th></th>\n",
       "      <th>Date</th>\n",
       "      <th>ItemCode</th>\n",
       "      <th>WeeklySales</th>\n",
       "    </tr>\n",
       "  </thead>\n",
       "  <tbody>\n",
       "    <tr>\n",
       "      <th>0</th>\n",
       "      <td>2021-10-04</td>\n",
       "      <td>13672</td>\n",
       "      <td>31</td>\n",
       "    </tr>\n",
       "    <tr>\n",
       "      <th>1</th>\n",
       "      <td>2021-10-11</td>\n",
       "      <td>20508</td>\n",
       "      <td>42</td>\n",
       "    </tr>\n",
       "    <tr>\n",
       "      <th>2</th>\n",
       "      <td>2021-10-18</td>\n",
       "      <td>20508</td>\n",
       "      <td>53</td>\n",
       "    </tr>\n",
       "    <tr>\n",
       "      <th>3</th>\n",
       "      <td>2021-10-25</td>\n",
       "      <td>23926</td>\n",
       "      <td>40</td>\n",
       "    </tr>\n",
       "    <tr>\n",
       "      <th>4</th>\n",
       "      <td>2021-11-01</td>\n",
       "      <td>23926</td>\n",
       "      <td>39</td>\n",
       "    </tr>\n",
       "  </tbody>\n",
       "</table>\n",
       "</div>"
      ],
      "text/plain": [
       "        Date  ItemCode  WeeklySales\n",
       "0 2021-10-04     13672           31\n",
       "1 2021-10-11     20508           42\n",
       "2 2021-10-18     20508           53\n",
       "3 2021-10-25     23926           40\n",
       "4 2021-11-01     23926           39"
      ]
     },
     "execution_count": 16,
     "metadata": {},
     "output_type": "execute_result"
    }
   ],
   "source": [
    "tr_weekly_data['WeeklySales'] = tr_weekly_data['DailySales']\n",
    "train_weekly_data=tr_weekly_data[['Date','ItemCode','WeeklySales']]\n",
    "train_weekly_data.head()"
   ]
  },
  {
   "cell_type": "code",
   "execution_count": 17,
   "id": "95154b23",
   "metadata": {
    "execution": {
     "iopub.execute_input": "2022-03-27T05:04:21.811755Z",
     "iopub.status.busy": "2022-03-27T05:04:21.810989Z",
     "iopub.status.idle": "2022-03-27T05:04:21.817939Z",
     "shell.execute_reply": "2022-03-27T05:04:21.817239Z",
     "shell.execute_reply.started": "2022-03-27T04:52:32.857004Z"
    },
    "papermill": {
     "duration": 0.050474,
     "end_time": "2022-03-27T05:04:21.818136",
     "exception": false,
     "start_time": "2022-03-27T05:04:21.767662",
     "status": "completed"
    },
    "tags": []
   },
   "outputs": [
    {
     "name": "stderr",
     "output_type": "stream",
     "text": [
      "/opt/conda/lib/python3.7/site-packages/ipykernel_launcher.py:1: SettingWithCopyWarning: \n",
      "A value is trying to be set on a copy of a slice from a DataFrame.\n",
      "Try using .loc[row_indexer,col_indexer] = value instead\n",
      "\n",
      "See the caveats in the documentation: https://pandas.pydata.org/pandas-docs/stable/user_guide/indexing.html#returning-a-view-versus-a-copy\n",
      "  \"\"\"Entry point for launching an IPython kernel.\n"
     ]
    }
   ],
   "source": [
    "train_weekly_data['month']=train_weekly_data['Date'].dt.month\n",
    "train_weekly_data['day']=train_weekly_data['Date'].dt.day\n",
    "#train_weekly_data"
   ]
  },
  {
   "cell_type": "code",
   "execution_count": 18,
   "id": "5d1ca9bc",
   "metadata": {
    "execution": {
     "iopub.execute_input": "2022-03-27T05:04:21.904060Z",
     "iopub.status.busy": "2022-03-27T05:04:21.903405Z",
     "iopub.status.idle": "2022-03-27T05:04:21.906026Z",
     "shell.execute_reply": "2022-03-27T05:04:21.906534Z",
     "shell.execute_reply.started": "2022-03-27T04:52:34.067433Z"
    },
    "papermill": {
     "duration": 0.049161,
     "end_time": "2022-03-27T05:04:21.906705",
     "exception": false,
     "start_time": "2022-03-27T05:04:21.857544",
     "status": "completed"
    },
    "tags": []
   },
   "outputs": [
    {
     "data": {
      "text/plain": [
       "((3837, 3), (3837,))"
      ]
     },
     "execution_count": 18,
     "metadata": {},
     "output_type": "execute_result"
    }
   ],
   "source": [
    "#Train data split\n",
    "tra_Xtr = train_weekly_data[['ItemCode','month','day']].values#.reshape(-1, 1) #'category_1','category_2','category_3'\n",
    "tra_ytr = train_weekly_data['WeeklySales'].values#.reshape(-1, 1)\n",
    "tra_Xtr.shape ,tra_ytr.shape"
   ]
  },
  {
   "cell_type": "code",
   "execution_count": 19,
   "id": "9479f72c",
   "metadata": {
    "execution": {
     "iopub.execute_input": "2022-03-27T05:04:21.989510Z",
     "iopub.status.busy": "2022-03-27T05:04:21.988803Z",
     "iopub.status.idle": "2022-03-27T05:04:21.998839Z",
     "shell.execute_reply": "2022-03-27T05:04:21.999430Z",
     "shell.execute_reply.started": "2022-03-27T04:52:34.891936Z"
    },
    "papermill": {
     "duration": 0.053466,
     "end_time": "2022-03-27T05:04:21.999603",
     "exception": false,
     "start_time": "2022-03-27T05:04:21.946137",
     "status": "completed"
    },
    "tags": []
   },
   "outputs": [
    {
     "data": {
      "text/plain": [
       "count    3837.000000\n",
       "mean       38.169664\n",
       "std        73.933827\n",
       "min         0.000000\n",
       "25%         9.000000\n",
       "50%        18.000000\n",
       "75%        38.000000\n",
       "max       862.000000\n",
       "Name: WeeklySales, dtype: float64"
      ]
     },
     "execution_count": 19,
     "metadata": {},
     "output_type": "execute_result"
    }
   ],
   "source": [
    "train_weekly_data['WeeklySales'].describe()#Summary Statistics for Weekly sales data"
   ]
  },
  {
   "cell_type": "code",
   "execution_count": 20,
   "id": "acc3e6c5",
   "metadata": {
    "execution": {
     "iopub.execute_input": "2022-03-27T05:04:22.083124Z",
     "iopub.status.busy": "2022-03-27T05:04:22.082411Z",
     "iopub.status.idle": "2022-03-27T05:04:23.356503Z",
     "shell.execute_reply": "2022-03-27T05:04:23.357149Z",
     "shell.execute_reply.started": "2022-03-27T04:52:35.867173Z"
    },
    "papermill": {
     "duration": 1.317155,
     "end_time": "2022-03-27T05:04:23.357349",
     "exception": false,
     "start_time": "2022-03-27T05:04:22.040194",
     "status": "completed"
    },
    "tags": []
   },
   "outputs": [],
   "source": [
    "from sklearn.model_selection import train_test_split\n",
    "from sklearn.metrics import mean_squared_error\n",
    "from sklearn.linear_model import LinearRegression"
   ]
  },
  {
   "cell_type": "code",
   "execution_count": 21,
   "id": "555ea5e0",
   "metadata": {
    "execution": {
     "iopub.execute_input": "2022-03-27T05:04:23.441591Z",
     "iopub.status.busy": "2022-03-27T05:04:23.440918Z",
     "iopub.status.idle": "2022-03-27T05:04:23.832307Z",
     "shell.execute_reply": "2022-03-27T05:04:23.832855Z",
     "shell.execute_reply.started": "2022-03-27T04:52:54.007171Z"
    },
    "papermill": {
     "duration": 0.434417,
     "end_time": "2022-03-27T05:04:23.833033",
     "exception": false,
     "start_time": "2022-03-27T05:04:23.398616",
     "status": "completed"
    },
    "tags": []
   },
   "outputs": [
    {
     "name": "stderr",
     "output_type": "stream",
     "text": [
      "/opt/conda/lib/python3.7/site-packages/sklearn/linear_model/_base.py:145: FutureWarning: 'normalize' was deprecated in version 1.0 and will be removed in 1.2.\n",
      "If you wish to scale the data, use Pipeline with a StandardScaler in a preprocessing stage. To reproduce the previous behavior:\n",
      "\n",
      "from sklearn.pipeline import make_pipeline\n",
      "\n",
      "model = make_pipeline(StandardScaler(with_mean=False), LinearRegression())\n",
      "\n",
      "If you wish to pass a sample_weight parameter, you need to pass it as a fit parameter to each step of the pipeline as follows:\n",
      "\n",
      "kwargs = {s[0] + '__sample_weight': sample_weight for s in model.steps}\n",
      "model.fit(X, y, **kwargs)\n",
      "\n",
      "\n",
      "  FutureWarning,\n",
      "/opt/conda/lib/python3.7/site-packages/sklearn/linear_model/_base.py:145: FutureWarning: 'normalize' was deprecated in version 1.0 and will be removed in 1.2.\n",
      "If you wish to scale the data, use Pipeline with a StandardScaler in a preprocessing stage. To reproduce the previous behavior:\n",
      "\n",
      "from sklearn.pipeline import make_pipeline\n",
      "\n",
      "model = make_pipeline(StandardScaler(with_mean=False), LinearRegression())\n",
      "\n",
      "If you wish to pass a sample_weight parameter, you need to pass it as a fit parameter to each step of the pipeline as follows:\n",
      "\n",
      "kwargs = {s[0] + '__sample_weight': sample_weight for s in model.steps}\n",
      "model.fit(X, y, **kwargs)\n",
      "\n",
      "\n",
      "  FutureWarning,\n",
      "/opt/conda/lib/python3.7/site-packages/sklearn/linear_model/_base.py:145: FutureWarning: 'normalize' was deprecated in version 1.0 and will be removed in 1.2.\n",
      "If you wish to scale the data, use Pipeline with a StandardScaler in a preprocessing stage. To reproduce the previous behavior:\n",
      "\n",
      "from sklearn.pipeline import make_pipeline\n",
      "\n",
      "model = make_pipeline(StandardScaler(with_mean=False), LinearRegression())\n",
      "\n",
      "If you wish to pass a sample_weight parameter, you need to pass it as a fit parameter to each step of the pipeline as follows:\n",
      "\n",
      "kwargs = {s[0] + '__sample_weight': sample_weight for s in model.steps}\n",
      "model.fit(X, y, **kwargs)\n",
      "\n",
      "\n",
      "  FutureWarning,\n",
      "/opt/conda/lib/python3.7/site-packages/sklearn/linear_model/_base.py:145: FutureWarning: 'normalize' was deprecated in version 1.0 and will be removed in 1.2.\n",
      "If you wish to scale the data, use Pipeline with a StandardScaler in a preprocessing stage. To reproduce the previous behavior:\n",
      "\n",
      "from sklearn.pipeline import make_pipeline\n",
      "\n",
      "model = make_pipeline(StandardScaler(with_mean=False), LinearRegression())\n",
      "\n",
      "If you wish to pass a sample_weight parameter, you need to pass it as a fit parameter to each step of the pipeline as follows:\n",
      "\n",
      "kwargs = {s[0] + '__sample_weight': sample_weight for s in model.steps}\n",
      "model.fit(X, y, **kwargs)\n",
      "\n",
      "\n",
      "  FutureWarning,\n",
      "/opt/conda/lib/python3.7/site-packages/sklearn/linear_model/_base.py:145: FutureWarning: 'normalize' was deprecated in version 1.0 and will be removed in 1.2.\n",
      "If you wish to scale the data, use Pipeline with a StandardScaler in a preprocessing stage. To reproduce the previous behavior:\n",
      "\n",
      "from sklearn.pipeline import make_pipeline\n",
      "\n",
      "model = make_pipeline(StandardScaler(with_mean=False), LinearRegression())\n",
      "\n",
      "If you wish to pass a sample_weight parameter, you need to pass it as a fit parameter to each step of the pipeline as follows:\n",
      "\n",
      "kwargs = {s[0] + '__sample_weight': sample_weight for s in model.steps}\n",
      "model.fit(X, y, **kwargs)\n",
      "\n",
      "\n",
      "  FutureWarning,\n",
      "/opt/conda/lib/python3.7/site-packages/sklearn/linear_model/_base.py:155: FutureWarning: 'normalize' was deprecated in version 1.0 and will be removed in 1.2. Please leave the normalize parameter to its default value to silence this warning. The default behavior of this estimator is to not do any normalization. If normalization is needed please use sklearn.preprocessing.StandardScaler instead.\n",
      "  FutureWarning,\n",
      "/opt/conda/lib/python3.7/site-packages/sklearn/linear_model/_base.py:155: FutureWarning: 'normalize' was deprecated in version 1.0 and will be removed in 1.2. Please leave the normalize parameter to its default value to silence this warning. The default behavior of this estimator is to not do any normalization. If normalization is needed please use sklearn.preprocessing.StandardScaler instead.\n",
      "  FutureWarning,\n",
      "/opt/conda/lib/python3.7/site-packages/sklearn/linear_model/_base.py:155: FutureWarning: 'normalize' was deprecated in version 1.0 and will be removed in 1.2. Please leave the normalize parameter to its default value to silence this warning. The default behavior of this estimator is to not do any normalization. If normalization is needed please use sklearn.preprocessing.StandardScaler instead.\n",
      "  FutureWarning,\n",
      "/opt/conda/lib/python3.7/site-packages/sklearn/linear_model/_base.py:155: FutureWarning: 'normalize' was deprecated in version 1.0 and will be removed in 1.2. Please leave the normalize parameter to its default value to silence this warning. The default behavior of this estimator is to not do any normalization. If normalization is needed please use sklearn.preprocessing.StandardScaler instead.\n",
      "  FutureWarning,\n",
      "/opt/conda/lib/python3.7/site-packages/sklearn/linear_model/_base.py:155: FutureWarning: 'normalize' was deprecated in version 1.0 and will be removed in 1.2. Please leave the normalize parameter to its default value to silence this warning. The default behavior of this estimator is to not do any normalization. If normalization is needed please use sklearn.preprocessing.StandardScaler instead.\n",
      "  FutureWarning,\n",
      "/opt/conda/lib/python3.7/site-packages/sklearn/linear_model/_base.py:155: FutureWarning: 'normalize' was deprecated in version 1.0 and will be removed in 1.2. Please leave the normalize parameter to its default value to silence this warning. The default behavior of this estimator is to not do any normalization. If normalization is needed please use sklearn.preprocessing.StandardScaler instead.\n",
      "  FutureWarning,\n",
      "/opt/conda/lib/python3.7/site-packages/sklearn/tree/_classes.py:363: FutureWarning: Criterion 'mse' was deprecated in v1.0 and will be removed in version 1.2. Use `criterion='squared_error'` which is equivalent.\n",
      "  FutureWarning,\n",
      "/opt/conda/lib/python3.7/site-packages/sklearn/tree/_classes.py:363: FutureWarning: Criterion 'mse' was deprecated in v1.0 and will be removed in version 1.2. Use `criterion='squared_error'` which is equivalent.\n",
      "  FutureWarning,\n",
      "/opt/conda/lib/python3.7/site-packages/sklearn/tree/_classes.py:363: FutureWarning: Criterion 'mse' was deprecated in v1.0 and will be removed in version 1.2. Use `criterion='squared_error'` which is equivalent.\n",
      "  FutureWarning,\n",
      "/opt/conda/lib/python3.7/site-packages/sklearn/tree/_classes.py:363: FutureWarning: Criterion 'mse' was deprecated in v1.0 and will be removed in version 1.2. Use `criterion='squared_error'` which is equivalent.\n",
      "  FutureWarning,\n",
      "/opt/conda/lib/python3.7/site-packages/sklearn/tree/_classes.py:363: FutureWarning: Criterion 'mse' was deprecated in v1.0 and will be removed in version 1.2. Use `criterion='squared_error'` which is equivalent.\n",
      "  FutureWarning,\n",
      "/opt/conda/lib/python3.7/site-packages/sklearn/tree/_classes.py:363: FutureWarning: Criterion 'mse' was deprecated in v1.0 and will be removed in version 1.2. Use `criterion='squared_error'` which is equivalent.\n",
      "  FutureWarning,\n",
      "/opt/conda/lib/python3.7/site-packages/sklearn/tree/_classes.py:363: FutureWarning: Criterion 'mse' was deprecated in v1.0 and will be removed in version 1.2. Use `criterion='squared_error'` which is equivalent.\n",
      "  FutureWarning,\n",
      "/opt/conda/lib/python3.7/site-packages/sklearn/tree/_classes.py:363: FutureWarning: Criterion 'mse' was deprecated in v1.0 and will be removed in version 1.2. Use `criterion='squared_error'` which is equivalent.\n",
      "  FutureWarning,\n",
      "/opt/conda/lib/python3.7/site-packages/sklearn/tree/_classes.py:363: FutureWarning: Criterion 'mse' was deprecated in v1.0 and will be removed in version 1.2. Use `criterion='squared_error'` which is equivalent.\n",
      "  FutureWarning,\n",
      "/opt/conda/lib/python3.7/site-packages/sklearn/tree/_classes.py:363: FutureWarning: Criterion 'mse' was deprecated in v1.0 and will be removed in version 1.2. Use `criterion='squared_error'` which is equivalent.\n",
      "  FutureWarning,\n"
     ]
    },
    {
     "data": {
      "text/html": [
       "<div>\n",
       "<style scoped>\n",
       "    .dataframe tbody tr th:only-of-type {\n",
       "        vertical-align: middle;\n",
       "    }\n",
       "\n",
       "    .dataframe tbody tr th {\n",
       "        vertical-align: top;\n",
       "    }\n",
       "\n",
       "    .dataframe thead th {\n",
       "        text-align: right;\n",
       "    }\n",
       "</style>\n",
       "<table border=\"1\" class=\"dataframe\">\n",
       "  <thead>\n",
       "    <tr style=\"text-align: right;\">\n",
       "      <th></th>\n",
       "      <th>model</th>\n",
       "      <th>best_score</th>\n",
       "      <th>best_params</th>\n",
       "    </tr>\n",
       "  </thead>\n",
       "  <tbody>\n",
       "    <tr>\n",
       "      <th>0</th>\n",
       "      <td>linear_regression</td>\n",
       "      <td>-0.001684</td>\n",
       "      <td>{'normalize': False}</td>\n",
       "    </tr>\n",
       "    <tr>\n",
       "      <th>1</th>\n",
       "      <td>lasso</td>\n",
       "      <td>-0.001452</td>\n",
       "      <td>{'alpha': 2, 'selection': 'cyclic'}</td>\n",
       "    </tr>\n",
       "    <tr>\n",
       "      <th>2</th>\n",
       "      <td>decision_tree</td>\n",
       "      <td>0.613336</td>\n",
       "      <td>{'criterion': 'friedman_mse', 'splitter': 'best'}</td>\n",
       "    </tr>\n",
       "  </tbody>\n",
       "</table>\n",
       "</div>"
      ],
      "text/plain": [
       "               model  best_score  \\\n",
       "0  linear_regression   -0.001684   \n",
       "1              lasso   -0.001452   \n",
       "2      decision_tree    0.613336   \n",
       "\n",
       "                                         best_params  \n",
       "0                               {'normalize': False}  \n",
       "1                {'alpha': 2, 'selection': 'cyclic'}  \n",
       "2  {'criterion': 'friedman_mse', 'splitter': 'best'}  "
      ]
     },
     "execution_count": 21,
     "metadata": {},
     "output_type": "execute_result"
    }
   ],
   "source": [
    "from sklearn.model_selection import GridSearchCV\n",
    "from sklearn.model_selection import ShuffleSplit\n",
    "from sklearn.model_selection import cross_val_score\n",
    "\n",
    "from sklearn.linear_model import Lasso\n",
    "from sklearn.tree import DecisionTreeRegressor\n",
    "\n",
    "def find_best_model_using_gridsearchcv(X,Y):\n",
    "    algos = {\n",
    "        'linear_regression' : {\n",
    "            'model': LinearRegression(),\n",
    "            'params': {\n",
    "                'normalize': [True, False]\n",
    "            }\n",
    "        },\n",
    "        'lasso': {\n",
    "            'model': Lasso(),\n",
    "            'params': {\n",
    "                'alpha': [1,2],\n",
    "                'selection': ['random', 'cyclic']\n",
    "            }\n",
    "        },\n",
    "        'decision_tree': {\n",
    "            'model': DecisionTreeRegressor(),\n",
    "            'params': {\n",
    "                'criterion' : ['mse','friedman_mse'],\n",
    "                'splitter': ['best','random']\n",
    "            }\n",
    "        }\n",
    "    }\n",
    "    scores=[]\n",
    "    cv = ShuffleSplit(n_splits=5, test_size=0.2, random_state=0)\n",
    "    for algorithm_name, config in algos.items():\n",
    "        grid_search =  GridSearchCV(config['model'], config['params'], cv=cv, return_train_score=False)\n",
    "        grid_search.fit(X,Y)\n",
    "        scores.append({\n",
    "            'model': algorithm_name,\n",
    "            'best_score': grid_search.best_score_,\n",
    "            'best_params': grid_search.best_params_\n",
    "        })\n",
    "\n",
    "    return pd.DataFrame(scores,columns=['model','best_score','best_params'])\n",
    "\n",
    "find_best_model_using_gridsearchcv(tra_Xtr, tra_ytr)"
   ]
  },
  {
   "cell_type": "code",
   "execution_count": 22,
   "id": "bfc7580e",
   "metadata": {
    "execution": {
     "iopub.execute_input": "2022-03-27T05:04:23.918083Z",
     "iopub.status.busy": "2022-03-27T05:04:23.917369Z",
     "iopub.status.idle": "2022-03-27T05:04:23.935321Z",
     "shell.execute_reply": "2022-03-27T05:04:23.934618Z",
     "shell.execute_reply.started": "2022-03-27T04:53:00.977983Z"
    },
    "papermill": {
     "duration": 0.061381,
     "end_time": "2022-03-27T05:04:23.935479",
     "exception": false,
     "start_time": "2022-03-27T05:04:23.874098",
     "status": "completed"
    },
    "tags": []
   },
   "outputs": [
    {
     "data": {
      "text/plain": [
       "1.0"
      ]
     },
     "execution_count": 22,
     "metadata": {},
     "output_type": "execute_result"
    }
   ],
   "source": [
    "from sklearn.tree import DecisionTreeRegressor\n",
    "Dt = DecisionTreeRegressor()\n",
    "Dt.fit(tra_Xtr, tra_ytr)\n",
    "DT_pred = Dt.predict(val_Xtes)\n",
    "#print(lm_pred)\n",
    "Dt.score(tra_Xtr, tra_ytr)"
   ]
  },
  {
   "cell_type": "code",
   "execution_count": 23,
   "id": "db6207c5",
   "metadata": {
    "execution": {
     "iopub.execute_input": "2022-03-27T05:04:24.027948Z",
     "iopub.status.busy": "2022-03-27T05:04:24.027275Z",
     "iopub.status.idle": "2022-03-27T05:04:24.030855Z",
     "shell.execute_reply": "2022-03-27T05:04:24.030365Z",
     "shell.execute_reply.started": "2022-03-27T04:53:03.996916Z"
    },
    "papermill": {
     "duration": 0.053521,
     "end_time": "2022-03-27T05:04:24.031023",
     "exception": false,
     "start_time": "2022-03-27T05:04:23.977502",
     "status": "completed"
    },
    "tags": []
   },
   "outputs": [
    {
     "data": {
      "text/plain": [
       "1.1417827291525682"
      ]
     },
     "execution_count": 23,
     "metadata": {},
     "output_type": "execute_result"
    }
   ],
   "source": [
    "#Total Mean Absolute Percentage Error (Total MAPE) for evaluation.\n",
    "from sklearn.metrics import mean_absolute_percentage_error\n",
    "mean_absolute_percentage_error(val_ytes, DT_pred)"
   ]
  },
  {
   "cell_type": "code",
   "execution_count": 24,
   "id": "2d1866ac",
   "metadata": {
    "execution": {
     "iopub.execute_input": "2022-03-27T05:04:24.120796Z",
     "iopub.status.busy": "2022-03-27T05:04:24.120099Z",
     "iopub.status.idle": "2022-03-27T05:04:24.134485Z",
     "shell.execute_reply": "2022-03-27T05:04:24.135052Z",
     "shell.execute_reply.started": "2022-03-27T04:53:08.356695Z"
    },
    "papermill": {
     "duration": 0.062355,
     "end_time": "2022-03-27T05:04:24.135240",
     "exception": false,
     "start_time": "2022-03-27T05:04:24.072885",
     "status": "completed"
    },
    "tags": []
   },
   "outputs": [
    {
     "data": {
      "text/html": [
       "<div>\n",
       "<style scoped>\n",
       "    .dataframe tbody tr th:only-of-type {\n",
       "        vertical-align: middle;\n",
       "    }\n",
       "\n",
       "    .dataframe tbody tr th {\n",
       "        vertical-align: top;\n",
       "    }\n",
       "\n",
       "    .dataframe thead th {\n",
       "        text-align: right;\n",
       "    }\n",
       "</style>\n",
       "<table border=\"1\" class=\"dataframe\">\n",
       "  <thead>\n",
       "    <tr style=\"text-align: right;\">\n",
       "      <th></th>\n",
       "      <th>CategoryCode</th>\n",
       "      <th>ItemCode</th>\n",
       "      <th>Week</th>\n",
       "      <th>PredictedSales</th>\n",
       "    </tr>\n",
       "  </thead>\n",
       "  <tbody>\n",
       "    <tr>\n",
       "      <th>0</th>\n",
       "      <td>category_1</td>\n",
       "      <td>43738</td>\n",
       "      <td>w4</td>\n",
       "      <td>NaN</td>\n",
       "    </tr>\n",
       "    <tr>\n",
       "      <th>1</th>\n",
       "      <td>category_2</td>\n",
       "      <td>1006090</td>\n",
       "      <td>w1</td>\n",
       "      <td>NaN</td>\n",
       "    </tr>\n",
       "    <tr>\n",
       "      <th>2</th>\n",
       "      <td>category_2</td>\n",
       "      <td>1076929</td>\n",
       "      <td>w4</td>\n",
       "      <td>NaN</td>\n",
       "    </tr>\n",
       "    <tr>\n",
       "      <th>3</th>\n",
       "      <td>category_1</td>\n",
       "      <td>1081321</td>\n",
       "      <td>w3</td>\n",
       "      <td>NaN</td>\n",
       "    </tr>\n",
       "    <tr>\n",
       "      <th>4</th>\n",
       "      <td>category_2</td>\n",
       "      <td>216151</td>\n",
       "      <td>w4</td>\n",
       "      <td>NaN</td>\n",
       "    </tr>\n",
       "  </tbody>\n",
       "</table>\n",
       "</div>"
      ],
      "text/plain": [
       "  CategoryCode  ItemCode Week  PredictedSales\n",
       "0   category_1     43738   w4             NaN\n",
       "1   category_2   1006090   w1             NaN\n",
       "2   category_2   1076929   w4             NaN\n",
       "3   category_1   1081321   w3             NaN\n",
       "4   category_2    216151   w4             NaN"
      ]
     },
     "execution_count": 24,
     "metadata": {},
     "output_type": "execute_result"
    }
   ],
   "source": [
    "test_sales=pd.read_csv('../input/data-storm-30/test_data.csv')\n",
    "test_sales.head()"
   ]
  },
  {
   "cell_type": "code",
   "execution_count": 25,
   "id": "5158d682",
   "metadata": {
    "execution": {
     "iopub.execute_input": "2022-03-27T05:04:24.230928Z",
     "iopub.status.busy": "2022-03-27T05:04:24.224121Z",
     "iopub.status.idle": "2022-03-27T05:04:24.239930Z",
     "shell.execute_reply": "2022-03-27T05:04:24.240488Z",
     "shell.execute_reply.started": "2022-03-27T04:53:09.587212Z"
    },
    "papermill": {
     "duration": 0.0632,
     "end_time": "2022-03-27T05:04:24.240660",
     "exception": false,
     "start_time": "2022-03-27T05:04:24.177460",
     "status": "completed"
    },
    "tags": []
   },
   "outputs": [
    {
     "data": {
      "text/html": [
       "<div>\n",
       "<style scoped>\n",
       "    .dataframe tbody tr th:only-of-type {\n",
       "        vertical-align: middle;\n",
       "    }\n",
       "\n",
       "    .dataframe tbody tr th {\n",
       "        vertical-align: top;\n",
       "    }\n",
       "\n",
       "    .dataframe thead th {\n",
       "        text-align: right;\n",
       "    }\n",
       "</style>\n",
       "<table border=\"1\" class=\"dataframe\">\n",
       "  <thead>\n",
       "    <tr style=\"text-align: right;\">\n",
       "      <th></th>\n",
       "      <th>ItemCode</th>\n",
       "      <th>month</th>\n",
       "      <th>day</th>\n",
       "    </tr>\n",
       "  </thead>\n",
       "  <tbody>\n",
       "    <tr>\n",
       "      <th>0</th>\n",
       "      <td>43738</td>\n",
       "      <td>3</td>\n",
       "      <td>13</td>\n",
       "    </tr>\n",
       "    <tr>\n",
       "      <th>1</th>\n",
       "      <td>1006090</td>\n",
       "      <td>2</td>\n",
       "      <td>20</td>\n",
       "    </tr>\n",
       "    <tr>\n",
       "      <th>2</th>\n",
       "      <td>1076929</td>\n",
       "      <td>3</td>\n",
       "      <td>13</td>\n",
       "    </tr>\n",
       "    <tr>\n",
       "      <th>3</th>\n",
       "      <td>1081321</td>\n",
       "      <td>3</td>\n",
       "      <td>6</td>\n",
       "    </tr>\n",
       "    <tr>\n",
       "      <th>4</th>\n",
       "      <td>216151</td>\n",
       "      <td>3</td>\n",
       "      <td>13</td>\n",
       "    </tr>\n",
       "  </tbody>\n",
       "</table>\n",
       "</div>"
      ],
      "text/plain": [
       "   ItemCode  month  day\n",
       "0     43738      3   13\n",
       "1   1006090      2   20\n",
       "2   1076929      3   13\n",
       "3   1081321      3    6\n",
       "4    216151      3   13"
      ]
     },
     "execution_count": 25,
     "metadata": {},
     "output_type": "execute_result"
    }
   ],
   "source": [
    "#Convert \n",
    "test_sales['Week'].replace(to_replace = ['w1', 'w2','w3','w4'],value =['2/20/2022','2/27/2022','3/6/2022','3/13/2022'],inplace=True)\n",
    "test_sales['Date'] = pd.to_datetime(test_sales['Week'])\n",
    "test_sales['month']=test_sales['Date'].dt.month\n",
    "test_sales['day']=test_sales['Date'].dt.day\n",
    "test_sales = test_sales[['ItemCode','month','day']]\n",
    "test_sales.head()"
   ]
  },
  {
   "cell_type": "code",
   "execution_count": 26,
   "id": "bbc925e9",
   "metadata": {
    "execution": {
     "iopub.execute_input": "2022-03-27T05:04:24.332817Z",
     "iopub.status.busy": "2022-03-27T05:04:24.330697Z",
     "iopub.status.idle": "2022-03-27T05:04:24.340026Z",
     "shell.execute_reply": "2022-03-27T05:04:24.339387Z",
     "shell.execute_reply.started": "2022-03-27T04:53:13.417535Z"
    },
    "papermill": {
     "duration": 0.056278,
     "end_time": "2022-03-27T05:04:24.340187",
     "exception": false,
     "start_time": "2022-03-27T05:04:24.283909",
     "status": "completed"
    },
    "tags": []
   },
   "outputs": [],
   "source": [
    "test=pd.read_csv('../input/data-storm-30/test_data.csv')\n",
    "test = test[['CategoryCode','ItemCode','Week']]"
   ]
  },
  {
   "cell_type": "code",
   "execution_count": 27,
   "id": "05ee4611",
   "metadata": {
    "execution": {
     "iopub.execute_input": "2022-03-27T05:04:24.429654Z",
     "iopub.status.busy": "2022-03-27T05:04:24.428964Z",
     "iopub.status.idle": "2022-03-27T05:04:24.451551Z",
     "shell.execute_reply": "2022-03-27T05:04:24.452063Z",
     "shell.execute_reply.started": "2022-03-27T04:53:16.341729Z"
    },
    "papermill": {
     "duration": 0.069165,
     "end_time": "2022-03-27T05:04:24.452266",
     "exception": false,
     "start_time": "2022-03-27T05:04:24.383101",
     "status": "completed"
    },
    "tags": []
   },
   "outputs": [
    {
     "name": "stderr",
     "output_type": "stream",
     "text": [
      "/opt/conda/lib/python3.7/site-packages/sklearn/base.py:439: UserWarning: X has feature names, but DecisionTreeRegressor was fitted without feature names\n",
      "  f\"X has feature names, but {self.__class__.__name__} was fitted without\"\n"
     ]
    },
    {
     "data": {
      "text/html": [
       "<div>\n",
       "<style scoped>\n",
       "    .dataframe tbody tr th:only-of-type {\n",
       "        vertical-align: middle;\n",
       "    }\n",
       "\n",
       "    .dataframe tbody tr th {\n",
       "        vertical-align: top;\n",
       "    }\n",
       "\n",
       "    .dataframe thead th {\n",
       "        text-align: right;\n",
       "    }\n",
       "</style>\n",
       "<table border=\"1\" class=\"dataframe\">\n",
       "  <thead>\n",
       "    <tr style=\"text-align: right;\">\n",
       "      <th></th>\n",
       "      <th>CategoryCode</th>\n",
       "      <th>ItemCode</th>\n",
       "      <th>Week</th>\n",
       "      <th>PredictedSales</th>\n",
       "    </tr>\n",
       "  </thead>\n",
       "  <tbody>\n",
       "    <tr>\n",
       "      <th>0</th>\n",
       "      <td>category_1</td>\n",
       "      <td>43738</td>\n",
       "      <td>w4</td>\n",
       "      <td>22.0</td>\n",
       "    </tr>\n",
       "    <tr>\n",
       "      <th>1</th>\n",
       "      <td>category_2</td>\n",
       "      <td>1006090</td>\n",
       "      <td>w1</td>\n",
       "      <td>1.0</td>\n",
       "    </tr>\n",
       "    <tr>\n",
       "      <th>2</th>\n",
       "      <td>category_2</td>\n",
       "      <td>1076929</td>\n",
       "      <td>w4</td>\n",
       "      <td>12.0</td>\n",
       "    </tr>\n",
       "    <tr>\n",
       "      <th>3</th>\n",
       "      <td>category_1</td>\n",
       "      <td>1081321</td>\n",
       "      <td>w3</td>\n",
       "      <td>12.0</td>\n",
       "    </tr>\n",
       "    <tr>\n",
       "      <th>4</th>\n",
       "      <td>category_2</td>\n",
       "      <td>216151</td>\n",
       "      <td>w4</td>\n",
       "      <td>72.0</td>\n",
       "    </tr>\n",
       "    <tr>\n",
       "      <th>...</th>\n",
       "      <td>...</td>\n",
       "      <td>...</td>\n",
       "      <td>...</td>\n",
       "      <td>...</td>\n",
       "    </tr>\n",
       "    <tr>\n",
       "      <th>372</th>\n",
       "      <td>category_2</td>\n",
       "      <td>1101571</td>\n",
       "      <td>w1</td>\n",
       "      <td>1.0</td>\n",
       "    </tr>\n",
       "    <tr>\n",
       "      <th>373</th>\n",
       "      <td>category_2</td>\n",
       "      <td>1090258</td>\n",
       "      <td>w4</td>\n",
       "      <td>2.0</td>\n",
       "    </tr>\n",
       "    <tr>\n",
       "      <th>374</th>\n",
       "      <td>category_2</td>\n",
       "      <td>906595</td>\n",
       "      <td>w1</td>\n",
       "      <td>2.0</td>\n",
       "    </tr>\n",
       "    <tr>\n",
       "      <th>375</th>\n",
       "      <td>category_2</td>\n",
       "      <td>32245</td>\n",
       "      <td>w1</td>\n",
       "      <td>38.0</td>\n",
       "    </tr>\n",
       "    <tr>\n",
       "      <th>376</th>\n",
       "      <td>category_2</td>\n",
       "      <td>1006090</td>\n",
       "      <td>w2</td>\n",
       "      <td>2.0</td>\n",
       "    </tr>\n",
       "  </tbody>\n",
       "</table>\n",
       "<p>377 rows × 4 columns</p>\n",
       "</div>"
      ],
      "text/plain": [
       "    CategoryCode  ItemCode Week  PredictedSales\n",
       "0     category_1     43738   w4            22.0\n",
       "1     category_2   1006090   w1             1.0\n",
       "2     category_2   1076929   w4            12.0\n",
       "3     category_1   1081321   w3            12.0\n",
       "4     category_2    216151   w4            72.0\n",
       "..           ...       ...  ...             ...\n",
       "372   category_2   1101571   w1             1.0\n",
       "373   category_2   1090258   w4             2.0\n",
       "374   category_2    906595   w1             2.0\n",
       "375   category_2     32245   w1            38.0\n",
       "376   category_2   1006090   w2             2.0\n",
       "\n",
       "[377 rows x 4 columns]"
      ]
     },
     "execution_count": 27,
     "metadata": {},
     "output_type": "execute_result"
    }
   ],
   "source": [
    "Dt_pred = Dt.predict(test_sales)\n",
    "Dt_pr = pd.DataFrame(Dt_pred,columns =['PredictedSales'])\n",
    "\n",
    "PredictedSales = pd.concat([test,Dt_pr],axis=1)\n",
    "PredictedSales"
   ]
  },
  {
   "cell_type": "code",
   "execution_count": 28,
   "id": "c0660d75",
   "metadata": {
    "execution": {
     "iopub.execute_input": "2022-03-27T05:04:24.543983Z",
     "iopub.status.busy": "2022-03-27T05:04:24.542999Z",
     "iopub.status.idle": "2022-03-27T05:04:24.566275Z",
     "shell.execute_reply": "2022-03-27T05:04:24.566727Z",
     "shell.execute_reply.started": "2022-03-27T05:02:45.018426Z"
    },
    "papermill": {
     "duration": 0.070572,
     "end_time": "2022-03-27T05:04:24.566911",
     "exception": false,
     "start_time": "2022-03-27T05:04:24.496339",
     "status": "completed"
    },
    "tags": []
   },
   "outputs": [
    {
     "data": {
      "text/html": [
       "<div>\n",
       "<style scoped>\n",
       "    .dataframe tbody tr th:only-of-type {\n",
       "        vertical-align: middle;\n",
       "    }\n",
       "\n",
       "    .dataframe tbody tr th {\n",
       "        vertical-align: top;\n",
       "    }\n",
       "\n",
       "    .dataframe thead th {\n",
       "        text-align: right;\n",
       "    }\n",
       "</style>\n",
       "<table border=\"1\" class=\"dataframe\">\n",
       "  <thead>\n",
       "    <tr style=\"text-align: right;\">\n",
       "      <th></th>\n",
       "      <th>ID</th>\n",
       "      <th>PredictedSales</th>\n",
       "    </tr>\n",
       "  </thead>\n",
       "  <tbody>\n",
       "    <tr>\n",
       "      <th>0</th>\n",
       "      <td>category_1_43738_w4</td>\n",
       "      <td>22.0</td>\n",
       "    </tr>\n",
       "    <tr>\n",
       "      <th>1</th>\n",
       "      <td>category_2_1006090_w1</td>\n",
       "      <td>1.0</td>\n",
       "    </tr>\n",
       "    <tr>\n",
       "      <th>2</th>\n",
       "      <td>category_2_1076929_w4</td>\n",
       "      <td>12.0</td>\n",
       "    </tr>\n",
       "    <tr>\n",
       "      <th>3</th>\n",
       "      <td>category_1_1081321_w3</td>\n",
       "      <td>12.0</td>\n",
       "    </tr>\n",
       "    <tr>\n",
       "      <th>4</th>\n",
       "      <td>category_2_216151_w4</td>\n",
       "      <td>72.0</td>\n",
       "    </tr>\n",
       "    <tr>\n",
       "      <th>...</th>\n",
       "      <td>...</td>\n",
       "      <td>...</td>\n",
       "    </tr>\n",
       "    <tr>\n",
       "      <th>372</th>\n",
       "      <td>category_2_1101571_w1</td>\n",
       "      <td>1.0</td>\n",
       "    </tr>\n",
       "    <tr>\n",
       "      <th>373</th>\n",
       "      <td>category_2_1090258_w4</td>\n",
       "      <td>2.0</td>\n",
       "    </tr>\n",
       "    <tr>\n",
       "      <th>374</th>\n",
       "      <td>category_2_906595_w1</td>\n",
       "      <td>2.0</td>\n",
       "    </tr>\n",
       "    <tr>\n",
       "      <th>375</th>\n",
       "      <td>category_2_32245_w1</td>\n",
       "      <td>38.0</td>\n",
       "    </tr>\n",
       "    <tr>\n",
       "      <th>376</th>\n",
       "      <td>category_2_1006090_w2</td>\n",
       "      <td>2.0</td>\n",
       "    </tr>\n",
       "  </tbody>\n",
       "</table>\n",
       "<p>377 rows × 2 columns</p>\n",
       "</div>"
      ],
      "text/plain": [
       "                        ID  PredictedSales\n",
       "0      category_1_43738_w4            22.0\n",
       "1    category_2_1006090_w1             1.0\n",
       "2    category_2_1076929_w4            12.0\n",
       "3    category_1_1081321_w3            12.0\n",
       "4     category_2_216151_w4            72.0\n",
       "..                     ...             ...\n",
       "372  category_2_1101571_w1             1.0\n",
       "373  category_2_1090258_w4             2.0\n",
       "374   category_2_906595_w1             2.0\n",
       "375    category_2_32245_w1            38.0\n",
       "376  category_2_1006090_w2             2.0\n",
       "\n",
       "[377 rows x 2 columns]"
      ]
     },
     "execution_count": 28,
     "metadata": {},
     "output_type": "execute_result"
    }
   ],
   "source": [
    "cols = ['CategoryCode', 'ItemCode', 'Week']\n",
    "PredictedSales['ID'] = PredictedSales[cols].apply(lambda row: '_'.join(row.values.astype(str)), axis=1)\n",
    "PredictedSalesforSub=PredictedSales[['ID','PredictedSales']]\n",
    "PredictedSalesforSub"
   ]
  },
  {
   "cell_type": "code",
   "execution_count": 29,
   "id": "1cb4db00",
   "metadata": {
    "execution": {
     "iopub.execute_input": "2022-03-27T05:04:24.660544Z",
     "iopub.status.busy": "2022-03-27T05:04:24.659857Z",
     "iopub.status.idle": "2022-03-27T05:04:24.666073Z",
     "shell.execute_reply": "2022-03-27T05:04:24.666672Z",
     "shell.execute_reply.started": "2022-03-27T05:02:57.612502Z"
    },
    "papermill": {
     "duration": 0.055541,
     "end_time": "2022-03-27T05:04:24.666860",
     "exception": false,
     "start_time": "2022-03-27T05:04:24.611319",
     "status": "completed"
    },
    "tags": []
   },
   "outputs": [],
   "source": [
    "PredictedSalesforSub.to_csv('PredictedSales.csv')"
   ]
  },
  {
   "cell_type": "code",
   "execution_count": null,
   "id": "2ec7caab",
   "metadata": {
    "papermill": {
     "duration": 0.044798,
     "end_time": "2022-03-27T05:04:24.756565",
     "exception": false,
     "start_time": "2022-03-27T05:04:24.711767",
     "status": "completed"
    },
    "tags": []
   },
   "outputs": [],
   "source": []
  }
 ],
 "metadata": {
  "kernelspec": {
   "display_name": "Python 3",
   "language": "python",
   "name": "python3"
  },
  "language_info": {
   "codemirror_mode": {
    "name": "ipython",
    "version": 3
   },
   "file_extension": ".py",
   "mimetype": "text/x-python",
   "name": "python",
   "nbconvert_exporter": "python",
   "pygments_lexer": "ipython3",
   "version": "3.7.12"
  },
  "papermill": {
   "default_parameters": {},
   "duration": 16.166088,
   "end_time": "2022-03-27T05:04:25.510940",
   "environment_variables": {},
   "exception": null,
   "input_path": "__notebook__.ipynb",
   "output_path": "__notebook__.ipynb",
   "parameters": {},
   "start_time": "2022-03-27T05:04:09.344852",
   "version": "2.3.3"
  }
 },
 "nbformat": 4,
 "nbformat_minor": 5
}
